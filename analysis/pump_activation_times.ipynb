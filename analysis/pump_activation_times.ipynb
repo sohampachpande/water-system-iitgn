{
 "cells": [
  {
   "cell_type": "code",
   "execution_count": 1,
   "metadata": {},
   "outputs": [],
   "source": [
    "import pandas as pd\n",
    "import numpy as np\n",
    "from datetime import datetime as dt\n",
    "from datetime import timedelta\n",
    "import time\n",
    "import sqlite3\n",
    "import matplotlib.pyplot as plt"
   ]
  },
  {
   "cell_type": "code",
   "execution_count": 2,
   "metadata": {},
   "outputs": [],
   "source": [
    "def epoch_timestring(epoch_time):\n",
    "    return time.strftime('%H:%M:%S', time.localtime(int(epoch_time))) #%d%B%YT%H:%M:%S\n",
    "\n",
    "def date_epoch(date_string):\n",
    "    utc_time = dt.strptime(date_string, \"%Y-%m-%d\")\n",
    "    epoch_start_time = utc_time.timestamp()\n",
    "    return epoch_start_time + 900, epoch_start_time + 86400"
   ]
  },
  {
   "cell_type": "code",
   "execution_count": 3,
   "metadata": {},
   "outputs": [],
   "source": [
    "def downsample(data, factor):\n",
    "    np_data = np.asarray(data)\n",
    "    np_sliced = np_data[::factor]\n",
    "\n",
    "    return np_sliced"
   ]
  },
  {
   "cell_type": "code",
   "execution_count": 4,
   "metadata": {},
   "outputs": [],
   "source": [
    "def pumpstartstop(np_data, downsample_f = 1):\n",
    "    np_data = downsample(np_data, downsample_f)\n",
    "    pump_start = []\n",
    "    pump_stop = []\n",
    "    pump_dict = {}\n",
    "    last_ind,last_val = 0,0\n",
    "    for i,val in enumerate(np.diff(np_data)):\n",
    "        if val > 10:\n",
    "            if last_val!=1:\n",
    "                pump_start.append(i)\n",
    "                pump_dict[i]=1\n",
    "                last_val = 1\n",
    "                last_ind = i\n",
    "        if val < -10:\n",
    "            if last_val == -1:\n",
    "                pump_stop.remove(last_ind)\n",
    "                pump_dict.pop(last_ind)\n",
    "                pump_stop.append(i)\n",
    "                pump_dict[i]=-1\n",
    "                last_ind = i\n",
    "            else:\n",
    "                pump_stop.append(i)\n",
    "                pump_dict[i]=-1\n",
    "                last_ind = i\n",
    "                last_val = -1\n",
    "    return pump_start, pump_stop, pump_dict"
   ]
  },
  {
   "cell_type": "code",
   "execution_count": 5,
   "metadata": {},
   "outputs": [],
   "source": [
    "# date format '2019-03-06', all for all available dates\n",
    "\n",
    "def pump_stat(date_string, source, downsample_factor = 150):\n",
    "    conn = sqlite3.connect('/home/sohamp/project_course_sem6/git/Dash Server/water_data.db')\n",
    "    cursor = conn.cursor()\n",
    "\n",
    "    if date_string == 'all':\n",
    "        start_epoch, end_epoch = 0, 2000000000#date_epoch(date_string)\n",
    "    else:\n",
    "        start_epoch, end_epoch = date_epoch(date_string)\n",
    "    time_list, current_flow = None, None\n",
    "    if source == 'CWPS':\n",
    "        cursor.execute(\n",
    "            'SELECT timeEpoch, Current_Flow, Daily_Flow FROM cwps WHERE timeEpoch>{} AND timeEpoch<{}'\n",
    "                        .format(start_epoch, end_epoch))\n",
    "        np_flow_cwps = np.asarray(cursor.fetchall())\n",
    "        current_flow = np_flow_cwps[:,1]\n",
    "        time_list = list(map(epoch_timestring, list(np_flow_cwps[:, 0])))\n",
    "\n",
    "    elif source == 'WSC_FW':\n",
    "        cursor.execute(\n",
    "            'SELECT timeEpoch, current_flow, daily_flow FROM wsc1_fwp WHERE timeEpoch>{} AND timeEpoch<{}'\n",
    "                        .format(start_epoch, end_epoch))\n",
    "        np_flow_wsc1_fw = np.asarray(cursor.fetchall())\n",
    "        current_flow = np_flow_wsc1_fw[:,1]\n",
    "        time_list = list(map(epoch_timestring, list(np_flow_wsc1_fw[:, 0])))\n",
    "\n",
    "    elif source == 'WSC_RW':\n",
    "        cursor.execute(\n",
    "            'SELECT timeEpoch, current_flow, daily_flow FROM wsc1_rwp WHERE timeEpoch>{} AND timeEpoch<{}'\n",
    "                        .format(start_epoch, end_epoch))\n",
    "        np_flow_wsc1_rw = np.asarray(cursor.fetchall())\n",
    "        current_flow = np_flow_wsc1_rw[:,1]*4\n",
    "        # reason for multiplication by 4: The recycled water flows are lesser than that for fresh and cwps water\n",
    "        # To measure changes in slope, this amplification makes task easier\n",
    "        time_list = list(map(epoch_timestring, list(np_flow_wsc1_rw[:, 0])))\n",
    "\n",
    "    else: #error\n",
    "        print(\"Incoorrect source, enter CWPS, WSC_FW, WSC_RW\")\n",
    "        return -1\n",
    "    \n",
    "    pump_start, pump_stop, pump_dict = pumpstartstop(current_flow, downsample_factor)\n",
    "    downsampled_time = downsample(time_list, downsample_factor)\n",
    "\n",
    "    pump_action = pd.DataFrame(columns=['source','date','time', 'action'])\n",
    "\n",
    "    action_ = {1:'start', -1: 'stop'}\n",
    "    for k in pump_dict:\n",
    "        pump_action = pump_action.append({'source':source,'date': date_string,'time':downsampled_time[k], 'action': action_[pump_dict[k]]}, ignore_index=True)\n",
    "\n",
    "    return pump_action"
   ]
  },
  {
   "cell_type": "code",
   "execution_count": 6,
   "metadata": {},
   "outputs": [],
   "source": [
    "for dd in range(3,9):\n",
    "    d_string = '2019-03-0{}'.format(dd)\n",
    "    cwps = pump_stat(d_string, 'CWPS', 150)\n",
    "    wsc_fw = pump_stat(d_string, 'WSC_FW', 150)\n",
    "    wsc_rw = pump_stat(d_string, 'WSC_RW', 150)\n",
    "\n",
    "    try:\n",
    "        np_cwps = np.vstack([np_cwps, cwps.values])\n",
    "        np_wsc_fw = np.vstack([np_wsc_fw, cwps.values])\n",
    "        np_wsc_rw = np.vstack([np_wsc_rw, cwps.values])\n",
    "    except NameError:\n",
    "        np_cwps = cwps.values\n",
    "        np_wsc_fw = wsc_fw.values\n",
    "        np_wsc_rw = wsc_rw.values"
   ]
  },
  {
   "cell_type": "code",
   "execution_count": 33,
   "metadata": {},
   "outputs": [],
   "source": [
    "cwps_start = np_wsc_fw[np_wsc_fw[:,3]=='start'][:,2]\n",
    "cwps_stop = np_wsc_fw[np_wsc_fw[:,3]=='stop'][:,2]"
   ]
  },
  {
   "cell_type": "code",
   "execution_count": 35,
   "metadata": {},
   "outputs": [],
   "source": [
    "cwps_stop = np.delete(cwps_stop,0,0)"
   ]
  },
  {
   "cell_type": "code",
   "execution_count": 40,
   "metadata": {},
   "outputs": [
    {
     "data": {
      "text/plain": [
       "array(['07:02:30', '12:00:28', '13:01:16', '15:57:53', '18:29:45',\n",
       "       '22:51:19', '13:31:20', '17:10:13', '19:11:50', '22:14:07',\n",
       "       '13:37:20', '17:10:07', '19:23:51', '13:37:32', '16:58:14',\n",
       "       '19:11:56', '13:43:32', '16:58:15', '19:12:03', '21:56:09',\n",
       "       '13:37:39'], dtype=object)"
      ]
     },
     "execution_count": 40,
     "metadata": {},
     "output_type": "execute_result"
    }
   ],
   "source": [
    "cwps_start"
   ]
  },
  {
   "cell_type": "code",
   "execution_count": 36,
   "metadata": {},
   "outputs": [
    {
     "data": {
      "text/plain": [
       "(array(['10:04:49', '18:23:40', '19:30:02', '19:05:36', '18:59:47'],\n",
       "       dtype=object),\n",
       " array(['12:55:11', '18:41:54', '23:51:27', '19:48:13', '19:36:16'],\n",
       "       dtype=object),\n",
       " array(['13:31:42', '14:13:48', '14:19:55', '14:26:12', '14:26:05'],\n",
       "       dtype=object),\n",
       " array(['19:05:46', '18:47:46'], dtype=object))"
      ]
     },
     "execution_count": 36,
     "metadata": {},
     "output_type": "execute_result"
    }
   ],
   "source": [
    "cwps_start[[0,3,7,10,13]], cwps_start[[1,4,8,11,14]], cwps_start[[2,5,9,12,15]], cwps_start[[6,16]]\n",
    "\n",
    "cwps_stop[[0,3,7,10,13]], cwps_stop[[1,4,8,11,14]], cwps_stop[[2,5,9,12,15]], cwps_stop[[6,16]]"
   ]
  },
  {
   "cell_type": "code",
   "execution_count": 37,
   "metadata": {},
   "outputs": [],
   "source": [
    "def f(x):\n",
    "#     return dt.strptime(x,\"%H:%M:%S\")\n",
    "    return x[:-3]\n",
    "\n",
    "cwps_start_dt = np.array([f(xi) for xi in cwps_start])\n",
    "cwps_stop_dt = np.array([f(xi) for xi in cwps_stop])"
   ]
  },
  {
   "cell_type": "code",
   "execution_count": 38,
   "metadata": {},
   "outputs": [
    {
     "data": {
      "text/plain": [
       "(array(['07:02', '15:57', '17:10', '13:37', '13:37'], dtype='<U5'),\n",
       " array(['12:00', '18:29', '19:11', '17:10', '16:58'], dtype='<U5'),\n",
       " array(['13:01', '22:51', '22:14', '19:23', '19:11'], dtype='<U5'),\n",
       " array(['13:31', '13:43'], dtype='<U5'))"
      ]
     },
     "execution_count": 38,
     "metadata": {},
     "output_type": "execute_result"
    }
   ],
   "source": [
    "cwps_start_dt[[0,3,7,10,13]], cwps_start_dt[[1,4,8,11,14]], cwps_start_dt[[2,5,9,12,15]], cwps_start_dt[[6,16]]"
   ]
  },
  {
   "cell_type": "code",
   "execution_count": 39,
   "metadata": {},
   "outputs": [
    {
     "data": {
      "text/plain": [
       "(array(['10:04', '18:23', '19:30', '19:05', '18:59'], dtype='<U5'),\n",
       " array(['12:55', '18:41', '23:51', '19:48', '19:36'], dtype='<U5'),\n",
       " array(['13:31', '14:13', '14:19', '14:26', '14:26'], dtype='<U5'),\n",
       " array(['19:05', '18:47'], dtype='<U5'))"
      ]
     },
     "execution_count": 39,
     "metadata": {},
     "output_type": "execute_result"
    }
   ],
   "source": [
    "cwps_stop_dt[[0,3,7,10,13]], cwps_stop_dt[[1,4,8,11,14]], cwps_stop_dt[[2,5,9,12,15]], cwps_stop_dt[[6,16]]"
   ]
  },
  {
   "cell_type": "code",
   "execution_count": null,
   "metadata": {},
   "outputs": [],
   "source": []
  },
  {
   "cell_type": "code",
   "execution_count": null,
   "metadata": {},
   "outputs": [],
   "source": []
  },
  {
   "cell_type": "code",
   "execution_count": null,
   "metadata": {},
   "outputs": [],
   "source": []
  },
  {
   "cell_type": "code",
   "execution_count": null,
   "metadata": {},
   "outputs": [],
   "source": []
  },
  {
   "cell_type": "markdown",
   "metadata": {},
   "source": [
    "#### Trial run code for debugging"
   ]
  },
  {
   "cell_type": "code",
   "execution_count": 16,
   "metadata": {},
   "outputs": [],
   "source": [
    "downsample_factor = 150\n",
    "conn = sqlite3.connect('/home/sohamp/project_course_sem6/git/Dash Server/water_data.db')\n",
    "cursor = conn.cursor()\n",
    "start_epoch, end_epoch = date_epoch(d_string)\n",
    "cursor.execute(\n",
    "    'SELECT timeEpoch, current_flow, daily_flow FROM wsc1_rwp WHERE timeEpoch>{} AND timeEpoch<{}'\n",
    "                .format(start_epoch, end_epoch))\n",
    "np_flow_wsc1_rw = np.asarray(cursor.fetchall())\n",
    "current_flow = np_flow_wsc1_rw[:,1]*5\n",
    "time_list = list(map(epoch_timestring, list(np_flow_wsc1_rw[:, 0])))\n",
    "\n",
    "pump_start, pump_stop, pump_dict = pumpstartstop(current_flow, downsample_factor)\n",
    "downsampled_time = downsample(time_list, downsample_factor)\n",
    "\n",
    "pump_action = pd.DataFrame(columns=['time', 'action'])\n",
    "\n",
    "action_ = {1:'start', -1: 'stop'}\n",
    "for k in pump_dict:\n",
    "    pump_action = pump_action.append({'time':downsampled_time[k], 'action': action_[pump_dict[k]]}, ignore_index=True)\n"
   ]
  },
  {
   "cell_type": "code",
   "execution_count": null,
   "metadata": {},
   "outputs": [],
   "source": []
  }
 ],
 "metadata": {
  "kernelspec": {
   "display_name": "Python 3",
   "language": "python",
   "name": "python3"
  },
  "language_info": {
   "codemirror_mode": {
    "name": "ipython",
    "version": 3
   },
   "file_extension": ".py",
   "mimetype": "text/x-python",
   "name": "python",
   "nbconvert_exporter": "python",
   "pygments_lexer": "ipython3",
   "version": "3.6.7"
  }
 },
 "nbformat": 4,
 "nbformat_minor": 2
}
