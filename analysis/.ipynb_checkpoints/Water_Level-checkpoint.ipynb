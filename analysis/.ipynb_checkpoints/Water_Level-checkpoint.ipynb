{
 "cells": [
  {
   "cell_type": "code",
   "execution_count": 1,
   "metadata": {},
   "outputs": [],
   "source": [
    "import pandas as pd\n",
    "import numpy as np\n",
    "from datetime import datetime as dt\n",
    "from datetime import timedelta\n",
    "import time\n",
    "import sqlite3\n",
    "import matplotlib.pyplot as plt"
   ]
  },
  {
   "cell_type": "code",
   "execution_count": 2,
   "metadata": {},
   "outputs": [],
   "source": [
    "def epoch_timestring(epoch_time):\n",
    "    return time.strftime('%H:%M:%S', time.localtime(int(epoch_time))) #%d%B%YT%H:%M:%S\n",
    "\n",
    "def date_epoch(date_string):\n",
    "    utc_time = dt.strptime(date_string, \"%Y-%m-%d\")\n",
    "    epoch_start_time = utc_time.timestamp()\n",
    "    return epoch_start_time + 900, epoch_start_time + 86400"
   ]
  },
  {
   "cell_type": "code",
   "execution_count": 3,
   "metadata": {},
   "outputs": [],
   "source": [
    "def downsample(data, factor):\n",
    "    np_data = np.asarray(data)\n",
    "    np_sliced = np_data[::factor]\n",
    "\n",
    "    return np_sliced"
   ]
  },
  {
   "cell_type": "code",
   "execution_count": 4,
   "metadata": {},
   "outputs": [],
   "source": [
    "def daily_flow(date_string, source, downsample_factor = 1):\n",
    "    conn = sqlite3.connect('/home/sohamp/project_course_sem6/git/Dash Server/water_data.db')\n",
    "    cursor = conn.cursor()\n",
    "\n",
    "    if date_string == 'all':\n",
    "        start_epoch, end_epoch = 0, 2000000000#date_epoch(date_string)\n",
    "    else:\n",
    "        start_epoch, end_epoch = date_epoch(date_string)\n",
    "    time_list, daily_flow = None, None\n",
    "    \n",
    "    if source == 'CWPS':\n",
    "        cursor.execute(\n",
    "            'SELECT timeEpoch, daily_Flow, Daily_Flow FROM cwps WHERE timeEpoch>{} AND timeEpoch<{}'\n",
    "                        .format(start_epoch, end_epoch))\n",
    "        np_flow_cwps = np.asarray(cursor.fetchall())\n",
    "        daily_flow = np_flow_cwps[:,2]\n",
    "        time_list = list(map(epoch_timestring, list(np_flow_cwps[:, 0])))\n",
    "\n",
    "    elif source == 'WSC_FW':\n",
    "        cursor.execute(\n",
    "            'SELECT timeEpoch, daily_flow, daily_flow FROM wsc1_fwp WHERE timeEpoch>{} AND timeEpoch<{}'\n",
    "                        .format(start_epoch, end_epoch))\n",
    "        np_flow_wsc1_fw = np.asarray(cursor.fetchall())\n",
    "        daily_flow = np_flow_wsc1_fw[:,2]\n",
    "        time_list = list(map(epoch_timestring, list(np_flow_wsc1_fw[:, 0])))\n",
    "\n",
    "    elif source == 'WSC_RW':\n",
    "        cursor.execute(\n",
    "            'SELECT timeEpoch, daily_flow, daily_flow FROM wsc1_rwp WHERE timeEpoch>{} AND timeEpoch<{}'\n",
    "                        .format(start_epoch, end_epoch))\n",
    "        np_flow_wsc1_rw = np.asarray(cursor.fetchall())\n",
    "        daily_flow = np_flow_wsc1_rw[:,2]*4\n",
    "        # reason for multiplication by 4: The recycled water flows are lesser than that for fresh and cwps water\n",
    "        # To measure changes in slope, this amplification makes task easier\n",
    "        time_list = list(map(epoch_timestring, list(np_flow_wsc1_rw[:, 0])))\n",
    "    \n",
    "    else:\n",
    "        print(\"Incoorrect source, enter CWPS, WSC_FW, WSC_RW\")\n",
    "        return -1\n",
    "    \n",
    "    return daily_flow, np.asarray(time_list)"
   ]
  },
  {
   "cell_type": "code",
   "execution_count": 5,
   "metadata": {},
   "outputs": [],
   "source": [
    "dict_day = {}\n",
    "for dd, day in zip(range(3,9),['Sun','Mon','Tue', 'Wed', 'Thu', 'Fri']):\n",
    "    d_string = '2019-03-0{}'.format(dd)\n",
    "    dict_day[d_string]=day"
   ]
  },
  {
   "cell_type": "code",
   "execution_count": 6,
   "metadata": {},
   "outputs": [],
   "source": [
    "lt = {'CWPS':[],'WSC_FW':[],'WSC_RW':[]}"
   ]
  },
  {
   "cell_type": "code",
   "execution_count": 7,
   "metadata": {},
   "outputs": [],
   "source": [
    "for dd in range(3,9):\n",
    "    d_string = '2019-03-0{}'.format(dd)\n",
    "    for source in ['CWPS', 'WSC_FW', 'WSC_RW']:\n",
    "        cwps, t = daily_flow(d_string, source, 1)\n",
    "    #     wsc_fw, t = daily_flow(d_string, 'WSC_FW', 1)\n",
    "    #     wsc_rw, t= daily_flow(d_string, 'WSC_RW', 1)\n",
    "\n",
    "        lt[source].append([dict_day[d_string], source, round(cwps[-1])])"
   ]
  },
  {
   "cell_type": "code",
   "execution_count": 8,
   "metadata": {},
   "outputs": [],
   "source": [
    "# pd.DataFrame(lt['WSC_RW'],columns=['Date','Source','Water Consumption']).to_csv('WSC_RW')"
   ]
  },
  {
   "cell_type": "code",
   "execution_count": 17,
   "metadata": {},
   "outputs": [
    {
     "data": {
      "image/png": "[encoded data removed]",
      "text/plain": [
       "<Figure size 432x288 with 1 Axes>"
      ]
     },
     "metadata": {
      "needs_background": "light"
     },
     "output_type": "display_data"
    }
   ],
   "source": [
    "for source in ['CWPS', 'WSC_FW', 'WSC_RW']:\n",
    "#     plt.cla()   # Clear axis\n",
    "#     plt.clf()   # Clear figure\n",
    "#     plt.close() # Close a figure window\n",
    "    time_ = np.asarray(lt[source])[:,0]\n",
    "    daily = np.asarray(lt[source])[:,2].astype('float')\n",
    "    plt.xlabel('Day')\n",
    "    plt.ylabel('Water pumped: m3')\n",
    "#     plt.title('{} Consumption'.format(source))\n",
    "    plt.plot(time_,daily, label=source)\n",
    "    plt.legend()\n",
    "plt.savefig('{}.jpg'.format('water_consumption'))\n"
   ]
  },
  {
   "cell_type": "code",
   "execution_count": null,
   "metadata": {},
   "outputs": [],
   "source": []
  }
 ],
 "metadata": {
  "kernelspec": {
   "display_name": "Python 3",
   "language": "python",
   "name": "python3"
  },
  "language_info": {
   "codemirror_mode": {
    "name": "ipython",
    "version": 3
   },
   "file_extension": ".py",
   "mimetype": "text/x-python",
   "name": "python",
   "nbconvert_exporter": "python",
   "pygments_lexer": "ipython3",
   "version": "3.6.7"
  }
 },
 "nbformat": 4,
 "nbformat_minor": 2
}
