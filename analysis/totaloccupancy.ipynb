{
 "cells": [
  {
   "cell_type": "code",
   "execution_count": 1,
   "metadata": {},
   "outputs": [],
   "source": [
    "import pandas as pd\n",
    "import numpy as np\n",
    "from datetime import datetime as dt\n",
    "from datetime import timedelta\n",
    "import time\n",
    "import sqlite3\n",
    "import matplotlib.pyplot as plt"
   ]
  },
  {
   "cell_type": "code",
   "execution_count": 2,
   "metadata": {},
   "outputs": [],
   "source": [
    "import plotly \n",
    "plotly.tools.set_credentials_file(username='sohamp', api_key='uOn9aMHPaObEizELzFTk')\n",
    "import plotly.plotly as py\n",
    "import plotly.graph_objs as go"
   ]
  },
  {
   "cell_type": "code",
   "execution_count": 69,
   "metadata": {},
   "outputs": [],
   "source": [
    "# Map for np array\n",
    "def f(x):\n",
    "#     return time.strftime('%H:%M:%S', time.localtime(int(x)))\n",
    "    return x%(24*60*60)"
   ]
  },
  {
   "cell_type": "code",
   "execution_count": 4,
   "metadata": {},
   "outputs": [],
   "source": [
    "def epoch_timestring(epoch_time):\n",
    "    return time.strftime('%H:%M:%S', time.localtime(int(epoch_time))) #%d%B%YT%H:%M:%S\n",
    "\n",
    "def date_epoch(date_string):\n",
    "    utc_time = dt.strptime(date_string, \"%Y-%m-%d\")\n",
    "    epoch_start_time = utc_time.timestamp()\n",
    "    return epoch_start_time + 900, epoch_start_time + 86400"
   ]
  },
  {
   "cell_type": "code",
   "execution_count": 23,
   "metadata": {},
   "outputs": [],
   "source": [
    "# def downsample(data, factor):\n",
    "#     np_data = np.asarray(data)\n",
    "#     np_sliced = np_data[::factor]\n",
    "\n",
    "#     return np_sliced"
   ]
  },
  {
   "cell_type": "code",
   "execution_count": 6,
   "metadata": {},
   "outputs": [],
   "source": [
    "conn = sqlite3.connect('/home/sohamp/project_course_sem6/git/analysis/occupancy_data.db')\n",
    "cursor = conn.cursor()"
   ]
  },
  {
   "cell_type": "code",
   "execution_count": 7,
   "metadata": {},
   "outputs": [],
   "source": [
    "def get_data(date_string):\n",
    "    start_epoch, end_epoch = date_epoch(date_string)\n",
    "    cursor.execute(\n",
    "                'SELECT timeEpoch, area, building, floor, ap, count FROM occupancy_ap WHERE timeEpoch>{} AND timeEpoch<{}'\n",
    "                            .format(start_epoch, end_epoch))\n",
    "    np_ = np.asarray(cursor.fetchall())\n",
    "    return np_"
   ]
  },
  {
   "cell_type": "code",
   "execution_count": null,
   "metadata": {},
   "outputs": [],
   "source": [
    "get_data('2019-03-30')"
   ]
  },
  {
   "cell_type": "code",
   "execution_count": null,
   "metadata": {},
   "outputs": [],
   "source": [
    "# for dd in range(10,32):\n",
    "#     d_string = '2019-03-{}'.format(dd)\n",
    "#     try:\n",
    "#         print(d_string,get_data(d_string))\n",
    "#     except Exception as e:\n",
    "#         print(e, d_string)"
   ]
  },
  {
   "cell_type": "code",
   "execution_count": 10,
   "metadata": {},
   "outputs": [],
   "source": [
    "date_avail = [26,27,31]"
   ]
  },
  {
   "cell_type": "code",
   "execution_count": 11,
   "metadata": {},
   "outputs": [],
   "source": [
    "np_26 = get_data('2019-03-26')\n",
    "np_27 = get_data('2019-03-27')\n",
    "np_31 = get_data('2019-03-31')\n",
    "np_1 = get_data('2019-04-02')"
   ]
  },
  {
   "cell_type": "code",
   "execution_count": 12,
   "metadata": {},
   "outputs": [],
   "source": [
    "np_d = np_1\n",
    "\n",
    "np.unique(np_d[:,1], return_counts=True)\n",
    "\n",
    "np_d[np_d[:,1]=='SH']\n",
    "\n",
    "np.unique(np_d[(np_d[:,1]=='DIN')&(np_d[:,2]=='FF')][:,4], return_counts=True)\n",
    "# np_d[(np_d[:,1]=='DIN')&(np_d[:,2]=='SF')]#[:,3]\n",
    "\n",
    "np_d[np_d[:,1]=='DIN']"
   ]
  },
  {
   "cell_type": "code",
   "execution_count": 21,
   "metadata": {},
   "outputs": [
    {
     "data": {
      "text/plain": [
       "array([['1554576360.0', 'SH', 'A', 'FF', '203', '6'],\n",
       "       ['1554576360.0', 'SH', 'A', 'FF', '207', '13'],\n",
       "       ['1554576360.0', 'SH', 'A', 'FF', '213', '4'],\n",
       "       ...,\n",
       "       ['1554661680.0', 'SH', 'F', 'TF', '469', '1'],\n",
       "       ['1554661680.0', 'SH', 'F', 'TF', '474', '3'],\n",
       "       ['1554661680.0', 'SH', 'F', 'TF', '480', '7']], dtype='<U32')"
      ]
     },
     "execution_count": 21,
     "metadata": {},
     "output_type": "execute_result"
    }
   ],
   "source": [
    "np_d = get_data('2019-04-07')\n",
    "np_d = np_d[np_d[:,1]=='SH']\n",
    "np_d"
   ]
  },
  {
   "cell_type": "code",
   "execution_count": 22,
   "metadata": {},
   "outputs": [
    {
     "data": {
      "text/plain": [
       "array([['1554576360.0', 'SH', 'A', 'FF', '203', '6'],\n",
       "       ['1554576360.0', 'SH', 'A', 'FF', '235', '3'],\n",
       "       ['1554576360.0', 'SH', 'A', 'FF', '267', '3'],\n",
       "       ...,\n",
       "       ['1554661680.0', 'SH', 'F', 'SF', '374', '3'],\n",
       "       ['1554661680.0', 'SH', 'F', 'TF', '440', '7'],\n",
       "       ['1554661680.0', 'SH', 'F', 'TF', '469', '1']], dtype='<U32')"
      ]
     },
     "execution_count": 22,
     "metadata": {},
     "output_type": "execute_result"
    }
   ],
   "source": [
    "np_d_t = downsample(np_d,5)\n",
    "np_d_t"
   ]
  },
  {
   "cell_type": "code",
   "execution_count": 121,
   "metadata": {},
   "outputs": [
    {
     "data": {
      "image/png": "[encoded data removed]",
      "text/plain": [
       "<Figure size 720x576 with 1 Axes>"
      ]
     },
     "metadata": {
      "needs_background": "light"
     },
     "output_type": "display_data"
    }
   ],
   "source": [
    "fig = plt.figure(figsize=(10,8))\n",
    "ax = fig.add_subplot(111)\n",
    "def occ_analyse(ddstr='2019-04-02'):\n",
    "    np_d = get_data(ddstr)\n",
    "    c = []\n",
    "    np_d = np_d[np_d[:,2]=='D']\n",
    "    time_np = downsample(np.unique(np_d[:,0]),5)\n",
    "    \n",
    "    for ep in time_np:\n",
    "        c.append(np.asarray([float(ep), np_d[np_d[:,0]==ep][:,5].astype('int').sum()]))\n",
    "\n",
    "    t = np.asarray(c)\n",
    "    np_t = np.array([(f(te[0]),te[1]) for te in t[:]])\n",
    "    \n",
    "#     plt.clf()\n",
    "#     ax.plot(np_t, t[:,1], label=ddstr)\n",
    "#     ax.set_title(ddstr)\n",
    "#     ax.legend()\n",
    "#     plt.show()\n",
    "    return(np_t)\n",
    "#     plt.savefig('./occupancyPlots/SH_'+ddstr)"
   ]
  },
  {
   "cell_type": "code",
   "execution_count": null,
   "metadata": {
    "scrolled": false
   },
   "outputs": [],
   "source": [
    "dict_date_occ ={}\n",
    "for d in range(1,8):\n",
    "    dict_date_occ[d]=occ_analyse('2019-04-0{}'.format(d))"
   ]
  },
  {
   "cell_type": "code",
   "execution_count": null,
   "metadata": {},
   "outputs": [],
   "source": [
    "time_list = []\n",
    "for i in range(0, 24*60*60+1, 15*60):\n",
    "    time_list.append(i)"
   ]
  },
  {
   "cell_type": "code",
   "execution_count": null,
   "metadata": {},
   "outputs": [],
   "source": [
    "def froundoff(x):\n",
    "    return x - x%(10*60)"
   ]
  },
  {
   "cell_type": "code",
   "execution_count": 116,
   "metadata": {},
   "outputs": [],
   "source": [
    "for i in range(1,8):\n",
    "    dict_date_occ[i] = dict_date_occ[i][dict_date_occ[i][:,0].argsort()]\n",
    "    dict_date_occ[i] = np.array([(froundoff(te[0]),te[1]) for te in dict_date_occ[i][:]])\n",
    "#     dict_date_occ[i] = np.array([(epoch_timestring(froundoff(te[0])),te[1]) for te in dict_date_occ[i][:]])"
   ]
  },
  {
   "cell_type": "code",
   "execution_count": 117,
   "metadata": {
    "scrolled": false
   },
   "outputs": [
    {
     "data": {
      "text/html": [
       "<iframe id=\"igraph\" scrolling=\"no\" style=\"border:none;\" seamless=\"seamless\" src=\"https://plot.ly/~sohamp/12.embed\" height=\"525px\" width=\"100%\"></iframe>"
      ],
      "text/plain": [
       "<plotly.tools.PlotlyDisplay object>"
      ]
     },
     "execution_count": 117,
     "metadata": {},
     "output_type": "execute_result"
    }
   ],
   "source": [
    "trace1 = go.Scatter(\n",
    "    x = dict_date_occ[1][:,0],\n",
    "    y = dict_date_occ[1][:,1],\n",
    "    mode = 'lines+markers',\n",
    "    name = '1 April'\n",
    ")\n",
    "\n",
    "trace2 = go.Scatter(\n",
    "    x = dict_date_occ[2][:,0],\n",
    "    y = dict_date_occ[2][:,1],\n",
    "    mode = 'lines+markers',\n",
    "    name = '2 April'\n",
    ")\n",
    "trace3 = go.Scatter(\n",
    "    x = dict_date_occ[3][:,0],\n",
    "    y = dict_date_occ[3][:,1],\n",
    "    mode = 'lines+markers',\n",
    "    name = '3 April'\n",
    ")\n",
    "trace4 = go.Scatter(\n",
    "    x = dict_date_occ[4][:,0],\n",
    "    y = dict_date_occ[4][:,1],\n",
    "    mode = 'lines+markers',\n",
    "    name = '4 April'\n",
    ")\n",
    "trace5 = go.Scatter(\n",
    "    x = dict_date_occ[5][:,0],\n",
    "    y = dict_date_occ[5][:,1],\n",
    "    mode = 'lines+markers',\n",
    "    name = '5 April'\n",
    ")\n",
    "trace6 = go.Scatter(\n",
    "    x = dict_date_occ[6][:,0],\n",
    "    y = dict_date_occ[6][:,1],\n",
    "    mode = 'lines+markers',\n",
    "    name = '6 April'\n",
    ")\n",
    "trace7 = go.Scatter(\n",
    "    x = dict_date_occ[7][:,0],\n",
    "    y = dict_date_occ[7][:,1],\n",
    "    mode = 'lines+markers',\n",
    "    name = '7 April'\n",
    ")\n",
    "\n",
    "data = [trace1,trace2,trace3,trace4,trace5,trace6,trace7]\n",
    "py.iplot(data, filename='downsampled_5-occupancy in first week of April-Student Housing-roundedoff')"
   ]
  },
  {
   "cell_type": "code",
   "execution_count": null,
   "metadata": {},
   "outputs": [],
   "source": []
  }
 ],
 "metadata": {
  "kernelspec": {
   "display_name": "Python 3",
   "language": "python",
   "name": "python3"
  },
  "language_info": {
   "codemirror_mode": {
    "name": "ipython",
    "version": 3
   },
   "file_extension": ".py",
   "mimetype": "text/x-python",
   "name": "python",
   "nbconvert_exporter": "python",
   "pygments_lexer": "ipython3",
   "version": "3.6.7"
  }
 },
 "nbformat": 4,
 "nbformat_minor": 2
}
